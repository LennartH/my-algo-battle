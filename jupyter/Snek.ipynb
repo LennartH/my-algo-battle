{
 "cells": [
  {
   "cell_type": "code",
   "execution_count": 1,
   "metadata": {},
   "outputs": [],
   "source": [
    "import sys\n",
    "import logging.config\n",
    "import yaml\n",
    "import importlib\n",
    "\n",
    "from os.path import join as path_join\n",
    "from IPython.display import display, Markdown\n",
    "\n",
    "src_path = path_join(\"..\", \"algos\")\n",
    "if src_path not in sys.path:\n",
    "    sys.path.insert(0, src_path)\n",
    "\n",
    "with open(\"logging_config.yml\") as f:\n",
    "    logging.config.dictConfig(yaml.load(f, Loader=yaml.FullLoader))\n",
    "logger = logging.getLogger(\"Jupyter\")\n",
    "\n",
    "def display_md(content: str):\n",
    "    display(Markdown(content))"
   ]
  },
  {
   "cell_type": "code",
   "execution_count": 2,
   "metadata": {},
   "outputs": [],
   "source": [
    "from snek import base, snek1d\n",
    "importlib.reload(base)\n",
    "importlib.reload(snek1d)\n",
    "\n",
    "import math\n",
    "import numpy as np\n",
    "import torch\n",
    "import pandas as pd\n",
    "import random\n",
    "\n",
    "from algo_battle.domain import Richtung, FeldZustand, ArenaDefinition"
   ]
  },
  {
   "cell_type": "code",
   "execution_count": 3,
   "metadata": {},
   "outputs": [],
   "source": [
    "def generate_state(length: int) -> snek1d.Snek1DState:\n",
    "    movements = []\n",
    "    for n in range(length):\n",
    "        movements.append(snek1d.Movement(\n",
    "            tuple(random.randint(0, 100) for _ in range(4)),\n",
    "            Richtung.zufall(), random.choice(base.field_states)\n",
    "        ))\n",
    "    return snek1d.Snek1DState(movements)"
   ]
  },
  {
   "cell_type": "code",
   "execution_count": 4,
   "metadata": {},
   "outputs": [],
   "source": [
    "kernel_size = 10\n",
    "out_features = 4\n",
    "\n",
    "model = snek1d.Snek1DModel(snek1d.Movement.size(), kernel_size, out_features)"
   ]
  },
  {
   "cell_type": "code",
   "execution_count": 5,
   "metadata": {},
   "outputs": [
    {
     "name": "stdout",
     "output_type": "stream",
     "text": [
      "tensor([[1., 1., 1., 1.]], grad_fn=<SoftmaxBackward>)\n"
     ]
    }
   ],
   "source": [
    "state = generate_state(128)\n",
    "state_tensor = state.as_tensor(None)\n",
    "prediction = model(state_tensor)\n",
    "print(prediction)"
   ]
  },
  {
   "cell_type": "code",
   "execution_count": 6,
   "metadata": {},
   "outputs": [
    {
     "data": {
      "text/plain": [
       "tensor([[0.5724, 0.5887, 0.4634, 0.4763],\n",
       "        [0.4276, 0.4113, 0.5366, 0.5237]], grad_fn=<SoftmaxBackward>)"
      ]
     },
     "execution_count": 6,
     "metadata": {},
     "output_type": "execute_result"
    }
   ],
   "source": [
    "state_batch = torch.cat((generate_state(128).as_tensor(None), generate_state(128).as_tensor(None)))\n",
    "model(state_batch)"
   ]
  }
 ],
 "metadata": {
  "kernelspec": {
   "display_name": "Venv 3.7",
   "language": "python",
   "name": "venv37"
  },
  "language_info": {
   "codemirror_mode": {
    "name": "ipython",
    "version": 3
   },
   "file_extension": ".py",
   "mimetype": "text/x-python",
   "name": "python",
   "nbconvert_exporter": "python",
   "pygments_lexer": "ipython3",
   "version": "3.7.2"
  }
 },
 "nbformat": 4,
 "nbformat_minor": 2
}
